{
 "cells": [
  {
   "cell_type": "code",
   "execution_count": 128,
   "metadata": {},
   "outputs": [],
   "source": [
    "import pandas as pd\n",
    "df = pd.read_excel('data\\\\db_2023_06_16 - Copy (4).xlsx')\n",
    "df_list = pd.read_csv('data\\\\hhidfile.csv')\n",
    "df_list_old = pd.read_excel('data\\\\hhidfile_old.xlsx')"
   ]
  },
  {
   "cell_type": "code",
   "execution_count": 129,
   "metadata": {},
   "outputs": [
    {
     "name": "stdout",
     "output_type": "stream",
     "text": [
      "0                NaN\n",
      "1       3.221195e+13\n",
      "2                NaN\n",
      "3       3.140487e+13\n",
      "4                NaN\n",
      "            ...     \n",
      "3756    3.111296e+13\n",
      "3757    3.050593e+13\n",
      "3758    3.090496e+13\n",
      "3759    4.171283e+13\n",
      "3760    3.150788e+13\n",
      "Name: pinfl, Length: 3761, dtype: float64\n"
     ]
    }
   ],
   "source": [
    "df_ = df.copy()\n",
    "df['address'] = df['1.1.1. Ҳудуд:'] + df['1.1.2. Туман:'] + df['1.1.3. Маҳалла:']\n",
    "df_list['address'] = df_list['region'] + df_list['district'] + df_list['mahalla']\n",
    "df = pd.merge(df, df_list[['address', 'name', 'pinfl']], how='left', on=['address', 'name'])\n",
    "print(df['pinfl'])"
   ]
  },
  {
   "cell_type": "code",
   "execution_count": 130,
   "metadata": {},
   "outputs": [],
   "source": [
    "for i, row in df.iterrows():\n",
    "    if pd.isnull(row['pinfl']):\n",
    "        mask = (df_list_old['name'] == row['name']) \n",
    "        df.at[i, 'pinfl'] = df_list_old[mask]['pinfl'].values[0]\n",
    "\n",
    "\n",
    "# print(df['pinfl'])"
   ]
  },
  {
   "cell_type": "code",
   "execution_count": 131,
   "metadata": {},
   "outputs": [],
   "source": [
    "df.sort_values(by=['2.12. Суғориш учун ЙИЛЛИК харажатингизни кўрсатинг:', '_submission_time'], ascending=True, na_position='first', inplace=True)\n"
   ]
  },
  {
   "cell_type": "code",
   "execution_count": 132,
   "metadata": {},
   "outputs": [
    {
     "data": {
      "text/plain": [
       "(3137, 282)"
      ]
     },
     "execution_count": 132,
     "metadata": {},
     "output_type": "execute_result"
    }
   ],
   "source": [
    "df.drop_duplicates(subset=['pinfl'], keep='last', inplace=True)\n",
    "df.sort_values(by=['_submission_time'], ascending=True, inplace=True)\n",
    "df.dropna(how='all', axis=1, inplace=True)\n",
    "\n",
    "df.shape"
   ]
  },
  {
   "cell_type": "code",
   "execution_count": 133,
   "metadata": {},
   "outputs": [],
   "source": [
    "df.to_excel('test.xlsx', index=False)"
   ]
  }
 ],
 "metadata": {
  "kernelspec": {
   "display_name": "Python 3",
   "language": "python",
   "name": "python3"
  },
  "language_info": {
   "codemirror_mode": {
    "name": "ipython",
    "version": 3
   },
   "file_extension": ".py",
   "mimetype": "text/x-python",
   "name": "python",
   "nbconvert_exporter": "python",
   "pygments_lexer": "ipython3",
   "version": "3.11.1"
  },
  "orig_nbformat": 4
 },
 "nbformat": 4,
 "nbformat_minor": 2
}
